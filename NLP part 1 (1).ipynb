{
 "cells": [
  {
   "cell_type": "raw",
   "metadata": {},
   "source": [
    "Regular Ex\n",
    "spacy and NLTK "
   ]
  },
  {
   "cell_type": "code",
   "execution_count": 1,
   "metadata": {},
   "outputs": [],
   "source": [
    "import re"
   ]
  },
  {
   "cell_type": "raw",
   "metadata": {},
   "source": [
    "re.match()\n",
    "re.search()\n",
    "re.finall()\n",
    "re.split()\n",
    "re.sub()"
   ]
  },
  {
   "cell_type": "code",
   "execution_count": 20,
   "metadata": {},
   "outputs": [],
   "source": [
    "text=\"The national animal of India is Tiger. Tiger lives in forest.\""
   ]
  },
  {
   "cell_type": "code",
   "execution_count": 3,
   "metadata": {},
   "outputs": [
    {
     "name": "stdout",
     "output_type": "stream",
     "text": [
      "<re.Match object; span=(23, 28), match='India'>\n"
     ]
    }
   ],
   "source": [
    "pattern=\"India\"\n",
    "out=re.search(pattern,text)\n",
    "print(out)"
   ]
  },
  {
   "cell_type": "code",
   "execution_count": 4,
   "metadata": {},
   "outputs": [
    {
     "name": "stdout",
     "output_type": "stream",
     "text": [
      "India\n"
     ]
    }
   ],
   "source": [
    "print(out.group())"
   ]
  },
  {
   "cell_type": "code",
   "execution_count": 6,
   "metadata": {},
   "outputs": [
    {
     "name": "stdout",
     "output_type": "stream",
     "text": [
      "<re.Match object; span=(0, 3), match='The'>\n"
     ]
    }
   ],
   "source": [
    "pattern=\"The\"\n",
    "out=re.match(pattern,text)\n",
    "print(out)"
   ]
  },
  {
   "cell_type": "code",
   "execution_count": 7,
   "metadata": {},
   "outputs": [
    {
     "name": "stdout",
     "output_type": "stream",
     "text": [
      "The\n"
     ]
    }
   ],
   "source": [
    "print(out.group())"
   ]
  },
  {
   "cell_type": "code",
   "execution_count": 8,
   "metadata": {},
   "outputs": [
    {
     "name": "stdout",
     "output_type": "stream",
     "text": [
      "['Tiger', 'Tiger']\n"
     ]
    }
   ],
   "source": [
    "pattern=\"Tiger\"\n",
    "out=re.findall(pattern,text)\n",
    "print(out)"
   ]
  },
  {
   "cell_type": "code",
   "execution_count": 9,
   "metadata": {},
   "outputs": [
    {
     "name": "stdout",
     "output_type": "stream",
     "text": [
      "['The', 'national', 'animal', 'of', 'India', 'is', 'Tiger.', 'Tiger', 'lives', 'in', 'forest.']\n"
     ]
    }
   ],
   "source": [
    "out=re.split(\" \",text)\n",
    "print(out)"
   ]
  },
  {
   "cell_type": "code",
   "execution_count": 10,
   "metadata": {},
   "outputs": [
    {
     "name": "stdout",
     "output_type": "stream",
     "text": [
      "['Data', 'cience']\n"
     ]
    }
   ],
   "source": [
    "data=\"DataScience\"\n",
    "out=re.split(\"S\",data)\n",
    "print(out)"
   ]
  },
  {
   "cell_type": "code",
   "execution_count": 11,
   "metadata": {},
   "outputs": [
    {
     "name": "stdout",
     "output_type": "stream",
     "text": [
      "THE national animal of India is Tiger. Tiger lives in forest.\n"
     ]
    }
   ],
   "source": [
    "pattern=\"Tiger\"\n",
    "out=re.sub(\"The\",\"THE\",text)\n",
    "print(out)"
   ]
  },
  {
   "cell_type": "code",
   "execution_count": 13,
   "metadata": {},
   "outputs": [
    {
     "name": "stdout",
     "output_type": "stream",
     "text": [
      "['A', 'i', 'i', 'i', 'i']\n"
     ]
    }
   ],
   "source": [
    "text=\"Artificial Intelligence\"\n",
    "out=re.findall(\"[Ai]\",text)\n",
    "print(out)"
   ]
  },
  {
   "cell_type": "code",
   "execution_count": 16,
   "metadata": {},
   "outputs": [
    {
     "name": "stdout",
     "output_type": "stream",
     "text": [
      "['56']\n"
     ]
    }
   ],
   "source": [
    "text=\"Artificial Intelligence 56\"\n",
    "out=re.findall(\"[0-6][0-6]\",text)\n",
    "print(out)"
   ]
  },
  {
   "cell_type": "code",
   "execution_count": 18,
   "metadata": {},
   "outputs": [
    {
     "name": "stdout",
     "output_type": "stream",
     "text": [
      "['r', 't', 'f', 'c', 'a', 'l', ' ', 'I', 'n', 't', 'e', 'l', 'l', 'g', 'e', 'n', 'c', 'e', ' ', '5', '6']\n"
     ]
    }
   ],
   "source": [
    "text=\"Artificial Intelligence 56\"\n",
    "out=re.findall(\"[^Ai]\",text)\n",
    "print(out)"
   ]
  },
  {
   "cell_type": "raw",
   "metadata": {},
   "source": [
    "Cropus :collection of text documents\n",
    "Tokens : \n",
    "N-grams : combination of n words\n",
    "corpus> documents> paragraphs > sentences > tokens\n",
    "tokenization: splitting of text object into smaller unit or token \n",
    "normalizations: converting token into it's base form ( morpheme)"
   ]
  },
  {
   "cell_type": "code",
   "execution_count": 21,
   "metadata": {},
   "outputs": [
    {
     "data": {
      "text/plain": [
       "'The national animal of India is Tiger. Tiger lives in forest.'"
      ]
     },
     "execution_count": 21,
     "metadata": {},
     "output_type": "execute_result"
    }
   ],
   "source": []
  },
  {
   "cell_type": "raw",
   "metadata": {},
   "source": [
    "Antinationalist -> Anti + national +ist\n",
    "\n",
    "Normalization - stemming \n",
    "elementary rule based method or process of removal [prefix or surfix] or inflectional form from token "
   ]
  },
  {
   "cell_type": "code",
   "execution_count": 22,
   "metadata": {},
   "outputs": [],
   "source": [
    "from nltk.tokenize import word_tokenize, sent_tokenize"
   ]
  },
  {
   "cell_type": "code",
   "execution_count": 23,
   "metadata": {},
   "outputs": [],
   "source": [
    "text=\"The national animal of India is Tiger. Tiger lives in forest. Hey how are you doing?\""
   ]
  },
  {
   "cell_type": "code",
   "execution_count": 24,
   "metadata": {},
   "outputs": [
    {
     "name": "stdout",
     "output_type": "stream",
     "text": [
      "['The', 'national', 'animal', 'of', 'India', 'is', 'Tiger', '.', 'Tiger', 'lives', 'in', 'forest', '.', 'Hey', 'how', 'are', 'you', 'doing', '?']\n"
     ]
    }
   ],
   "source": [
    "print(word_tokenize(text))"
   ]
  },
  {
   "cell_type": "code",
   "execution_count": 25,
   "metadata": {},
   "outputs": [
    {
     "name": "stdout",
     "output_type": "stream",
     "text": [
      "['The national animal of India is Tiger.', 'Tiger lives in forest.', 'Hey how are you doing?']\n"
     ]
    }
   ],
   "source": [
    "print(sent_tokenize(text))"
   ]
  },
  {
   "cell_type": "code",
   "execution_count": 26,
   "metadata": {},
   "outputs": [],
   "source": [
    "from nltk.stem import PorterStemmer\n",
    "stemer=PorterStemmer()"
   ]
  },
  {
   "cell_type": "code",
   "execution_count": 27,
   "metadata": {},
   "outputs": [
    {
     "name": "stdout",
     "output_type": "stream",
     "text": [
      "play\n",
      "play\n",
      "rain\n",
      "play\n"
     ]
    }
   ],
   "source": [
    "print(stemer.stem(\"playing\"))\n",
    "print(stemer.stem(\"played\"))\n",
    "print(stemer.stem(\"raining\"))\n",
    "print(stemer.stem(\"plays\"))"
   ]
  },
  {
   "cell_type": "code",
   "execution_count": 28,
   "metadata": {},
   "outputs": [],
   "source": [
    "from nltk.stem import WordNetLemmatizer\n",
    "lem=WordNetLemmatizer()"
   ]
  },
  {
   "cell_type": "code",
   "execution_count": 29,
   "metadata": {},
   "outputs": [
    {
     "name": "stdout",
     "output_type": "stream",
     "text": [
      "running\n"
     ]
    }
   ],
   "source": [
    "print(lem.lemmatize(\"running\"))"
   ]
  },
  {
   "cell_type": "code",
   "execution_count": 30,
   "metadata": {},
   "outputs": [
    {
     "name": "stdout",
     "output_type": "stream",
     "text": [
      "run\n"
     ]
    }
   ],
   "source": [
    "print(lem.lemmatize(\"running\",pos='v'))"
   ]
  },
  {
   "cell_type": "code",
   "execution_count": null,
   "metadata": {},
   "outputs": [],
   "source": []
  }
 ],
 "metadata": {
  "kernelspec": {
   "display_name": "Python 3",
   "language": "python",
   "name": "python3"
  },
  "language_info": {
   "codemirror_mode": {
    "name": "ipython",
    "version": 3
   },
   "file_extension": ".py",
   "mimetype": "text/x-python",
   "name": "python",
   "nbconvert_exporter": "python",
   "pygments_lexer": "ipython3",
   "version": "3.7.6"
  }
 },
 "nbformat": 4,
 "nbformat_minor": 4
}
